{
 "cells": [
  {
   "cell_type": "markdown",
   "metadata": {},
   "source": [
    "## **Part 1**"
   ]
  },
  {
   "cell_type": "code",
   "execution_count": 103,
   "metadata": {},
   "outputs": [],
   "source": [
    "import pandas as pd\n",
    "from datetime import timedelta\n",
    "from sklearn.linear_model import LinearRegression\n",
    "import matplotlib.pyplot as plt"
   ]
  },
  {
   "cell_type": "markdown",
   "metadata": {},
   "source": [
    "### **Task 3.0**"
   ]
  },
  {
   "cell_type": "markdown",
   "metadata": {},
   "source": [
    "#### *Processing data to delete duplicates*"
   ]
  },
  {
   "cell_type": "code",
   "execution_count": 104,
   "metadata": {},
   "outputs": [
    {
     "data": {
      "text/html": [
       "<div>\n",
       "<style scoped>\n",
       "    .dataframe tbody tr th:only-of-type {\n",
       "        vertical-align: middle;\n",
       "    }\n",
       "\n",
       "    .dataframe tbody tr th {\n",
       "        vertical-align: top;\n",
       "    }\n",
       "\n",
       "    .dataframe thead th {\n",
       "        text-align: right;\n",
       "    }\n",
       "</style>\n",
       "<table border=\"1\" class=\"dataframe\">\n",
       "  <thead>\n",
       "    <tr style=\"text-align: right;\">\n",
       "      <th></th>\n",
       "      <th>user_id</th>\n",
       "      <th>product_id</th>\n",
       "      <th>trial</th>\n",
       "      <th>refunded</th>\n",
       "      <th>purchase_date</th>\n",
       "      <th>country_code</th>\n",
       "      <th>media_source</th>\n",
       "    </tr>\n",
       "  </thead>\n",
       "  <tbody>\n",
       "    <tr>\n",
       "      <th>1</th>\n",
       "      <td>2604470.0</td>\n",
       "      <td>tenwords_1w_9.99_offer</td>\n",
       "      <td>False</td>\n",
       "      <td>False</td>\n",
       "      <td>2020-09-29</td>\n",
       "      <td>UK</td>\n",
       "      <td>Facebook Ads</td>\n",
       "    </tr>\n",
       "    <tr>\n",
       "      <th>2</th>\n",
       "      <td>2274467.0</td>\n",
       "      <td>tenwords_1w_9.99_offer</td>\n",
       "      <td>False</td>\n",
       "      <td>False</td>\n",
       "      <td>2020-08-18</td>\n",
       "      <td>Organic/Unknown</td>\n",
       "      <td>Organic/Unknown</td>\n",
       "    </tr>\n",
       "    <tr>\n",
       "      <th>4</th>\n",
       "      <td>2571294.0</td>\n",
       "      <td>tenwords_1w_9.99_offer</td>\n",
       "      <td>False</td>\n",
       "      <td>False</td>\n",
       "      <td>2020-09-25</td>\n",
       "      <td>US</td>\n",
       "      <td>Google Ads</td>\n",
       "    </tr>\n",
       "    <tr>\n",
       "      <th>5</th>\n",
       "      <td>2217390.0</td>\n",
       "      <td>tenwords_1w_9.99_offer</td>\n",
       "      <td>False</td>\n",
       "      <td>False</td>\n",
       "      <td>2020-09-05</td>\n",
       "      <td>MX</td>\n",
       "      <td>Facebook Ads</td>\n",
       "    </tr>\n",
       "    <tr>\n",
       "      <th>6</th>\n",
       "      <td>2086438.0</td>\n",
       "      <td>tenwords_1w_9.99_offer</td>\n",
       "      <td>False</td>\n",
       "      <td>False</td>\n",
       "      <td>2020-07-28</td>\n",
       "      <td>US</td>\n",
       "      <td>Facebook Ads</td>\n",
       "    </tr>\n",
       "    <tr>\n",
       "      <th>...</th>\n",
       "      <td>...</td>\n",
       "      <td>...</td>\n",
       "      <td>...</td>\n",
       "      <td>...</td>\n",
       "      <td>...</td>\n",
       "      <td>...</td>\n",
       "      <td>...</td>\n",
       "    </tr>\n",
       "    <tr>\n",
       "      <th>58089</th>\n",
       "      <td>2327622.0</td>\n",
       "      <td>tenwords_1w_9.99_offer</td>\n",
       "      <td>False</td>\n",
       "      <td>False</td>\n",
       "      <td>2020-09-15</td>\n",
       "      <td>US</td>\n",
       "      <td>Facebook Ads</td>\n",
       "    </tr>\n",
       "    <tr>\n",
       "      <th>58090</th>\n",
       "      <td>2327622.0</td>\n",
       "      <td>tenwords_1w_9.99_offer</td>\n",
       "      <td>False</td>\n",
       "      <td>False</td>\n",
       "      <td>2020-09-22</td>\n",
       "      <td>US</td>\n",
       "      <td>Facebook Ads</td>\n",
       "    </tr>\n",
       "    <tr>\n",
       "      <th>58091</th>\n",
       "      <td>2083410.0</td>\n",
       "      <td>tenwords_1w_9.99_offer</td>\n",
       "      <td>False</td>\n",
       "      <td>False</td>\n",
       "      <td>2020-07-27</td>\n",
       "      <td>US</td>\n",
       "      <td>Facebook Ads</td>\n",
       "    </tr>\n",
       "    <tr>\n",
       "      <th>58092</th>\n",
       "      <td>2083410.0</td>\n",
       "      <td>tenwords_1w_9.99_offer</td>\n",
       "      <td>False</td>\n",
       "      <td>False</td>\n",
       "      <td>2020-07-20</td>\n",
       "      <td>US</td>\n",
       "      <td>Facebook Ads</td>\n",
       "    </tr>\n",
       "    <tr>\n",
       "      <th>58093</th>\n",
       "      <td>2420286.0</td>\n",
       "      <td>tenwords_1w_9.99_offer</td>\n",
       "      <td>False</td>\n",
       "      <td>False</td>\n",
       "      <td>2020-09-08</td>\n",
       "      <td>CR</td>\n",
       "      <td>Facebook Ads</td>\n",
       "    </tr>\n",
       "  </tbody>\n",
       "</table>\n",
       "<p>40271 rows × 7 columns</p>\n",
       "</div>"
      ],
      "text/plain": [
       "         user_id              product_id  trial refunded purchase_date  \\\n",
       "1      2604470.0  tenwords_1w_9.99_offer  False    False    2020-09-29   \n",
       "2      2274467.0  tenwords_1w_9.99_offer  False    False    2020-08-18   \n",
       "4      2571294.0  tenwords_1w_9.99_offer  False    False    2020-09-25   \n",
       "5      2217390.0  tenwords_1w_9.99_offer  False    False    2020-09-05   \n",
       "6      2086438.0  tenwords_1w_9.99_offer  False    False    2020-07-28   \n",
       "...          ...                     ...    ...      ...           ...   \n",
       "58089  2327622.0  tenwords_1w_9.99_offer  False    False    2020-09-15   \n",
       "58090  2327622.0  tenwords_1w_9.99_offer  False    False    2020-09-22   \n",
       "58091  2083410.0  tenwords_1w_9.99_offer  False    False    2020-07-27   \n",
       "58092  2083410.0  tenwords_1w_9.99_offer  False    False    2020-07-20   \n",
       "58093  2420286.0  tenwords_1w_9.99_offer  False    False    2020-09-08   \n",
       "\n",
       "          country_code     media_source  \n",
       "1                   UK     Facebook Ads  \n",
       "2      Organic/Unknown  Organic/Unknown  \n",
       "4                   US       Google Ads  \n",
       "5                   MX     Facebook Ads  \n",
       "6                   US     Facebook Ads  \n",
       "...                ...              ...  \n",
       "58089               US     Facebook Ads  \n",
       "58090               US     Facebook Ads  \n",
       "58091               US     Facebook Ads  \n",
       "58092               US     Facebook Ads  \n",
       "58093               CR     Facebook Ads  \n",
       "\n",
       "[40271 rows x 7 columns]"
      ]
     },
     "execution_count": 104,
     "metadata": {},
     "output_type": "execute_result"
    }
   ],
   "source": [
    "dirty_data = pd.DataFrame(pd.read_csv(\"Файл 1 - Файл 1.csv\"))\n",
    "pure_data = dirty_data.where(dirty_data['product_id']=='tenwords_1w_9.99_offer').drop_duplicates().dropna(how='all')\n",
    "pure_data['purchase_date']=pd.to_datetime(pure_data['purchase_date'])\n",
    "pure_data"
   ]
  },
  {
   "cell_type": "code",
   "execution_count": 105,
   "metadata": {},
   "outputs": [],
   "source": [
    "#Function to check convertion from trial to second succesful payment\n",
    "\n",
    "def checker(date, data, userid, payment):\n",
    "    new_data = pd.DataFrame(data[(data['user_id']==userid) & (data['trial']==True)])\n",
    "    #print(new_data)\n",
    "    #print(userid)\n",
    "    if payment==1:\n",
    "        new_data['new_date'] = pd.DataFrame(pd.to_datetime(new_data['purchase_date']) + timedelta(days = 7))\n",
    "    else:\n",
    "        new_data['new_date'] = pd.DataFrame(pd.to_datetime(new_data['purchase_date']) + timedelta(days = 14))\n",
    "    dater = pd.DataFrame({'dater': [date]})\n",
    "    dater['dater'] = pd.to_datetime(dater['dater'])\n",
    "    #print(new_data)\n",
    "    #print(dater)\n",
    "    #print(dater['dater'].isin(new_data['new_date'])[0])\n",
    "    return dater['dater'].isin(new_data['new_date'])[0]"
   ]
  },
  {
   "cell_type": "markdown",
   "metadata": {},
   "source": [
    "#### *Calculating data via pandas*"
   ]
  },
  {
   "cell_type": "code",
   "execution_count": 106,
   "metadata": {},
   "outputs": [
    {
     "name": "stdout",
     "output_type": "stream",
     "text": [
      "Trial periods:  15\n",
      "Payments immediately after trial including refunded ones:  4\n",
      "Second payments after trial including refunded ones:  3\n",
      "Payments immediately after trial excluding refunded ones:  4\n",
      "Second payments after trial excluding refunded ones:  2\n"
     ]
    }
   ],
   "source": [
    "print('Trial periods: ', pure_data.where(pure_data['trial']==True).dropna(how='all').shape[0])\n",
    "users = pure_data['user_id'].where(pure_data['trial']==True).dropna(how='all')\n",
    "#print(users)\n",
    "#checker(pure_data, 2010478, 1, False)\n",
    "print('Payments immediately after trial including refunded ones: ',\n",
    "    pure_data.where((pure_data['trial']==False) & (pure_data['user_id'].isin(users))).dropna(how='all').apply(lambda row: checker(row['purchase_date'], pure_data, row['user_id'], \n",
    "                                                              1), axis=1).reset_index(name = 'checker')['checker'].value_counts()[True])\n",
    "print('Second payments after trial including refunded ones: ',\n",
    "    pure_data.where((pure_data['trial']==False) & (pure_data['user_id'].isin(users))).dropna(how='all').apply(lambda row: checker(row['purchase_date'], pure_data, row['user_id'], \n",
    "                                                              2), axis=1).reset_index(name = 'checker')['checker'].value_counts()[True])\n",
    "print('Payments immediately after trial excluding refunded ones: ',\n",
    "    pure_data.where((pure_data['refunded']==False) & (pure_data['trial']==False) & (pure_data['user_id'].isin(users))).dropna(how='all').apply(lambda row: checker(row['purchase_date'], pure_data, row['user_id'], \n",
    "                                                              1), axis=1).reset_index(name = 'checker')['checker'].value_counts()[True])\n",
    "print('Second payments after trial excluding refunded ones: ',\n",
    "    pure_data.where((pure_data['refunded']==False) & (pure_data['trial']==False) & (pure_data['user_id'].isin(users))).dropna(how='all').apply(lambda row: checker(row['purchase_date'], pure_data, row['user_id'], \n",
    "                                                              2), axis=1).reset_index(name = 'checker')['checker'].value_counts()[True])\n",
    "#users = pure_data['user_id'].where(pure_data['trial']==True).dropna(how='all')\n",
    "#trials = pure_data[['user_id', 'purchase_date']].where(pure_data['user_id'].isin(users) & pure_data['trial']==True).dropna(how='all')\n",
    "#trials['purchase_date'] = trials['purchase_date'] + pd.Timedelta(days = 7)\n",
    "#trial_data = pure_data.where(pure_data['user_id'].isin(users)).dropna(how='all').sort_values(by=['user_id', 'purchase_date'])\n",
    "#print(trial_data.where(trial_data[]).dropna(how='all').shape[0])"
   ]
  },
  {
   "cell_type": "markdown",
   "metadata": {},
   "source": [
    "### **Task 3.1**"
   ]
  },
  {
   "cell_type": "markdown",
   "metadata": {},
   "source": [
    "#### *Current data*"
   ]
  },
  {
   "cell_type": "code",
   "execution_count": 107,
   "metadata": {},
   "outputs": [
    {
     "name": "stdout",
     "output_type": "stream",
     "text": [
      "Trial users:  15\n"
     ]
    },
    {
     "name": "stdout",
     "output_type": "stream",
     "text": [
      "Trial refunds:  0\n",
      "Unique subscription payments:  40256\n",
      "Refund cases:  1676\n",
      "Unique users:  18014\n"
     ]
    }
   ],
   "source": [
    "print('Trial users: ', pure_data.where(pure_data['trial']==True).dropna(how='all').shape[0])\n",
    "print('Trial refunds: ', pure_data.where((pure_data['trial']==True) & (pure_data['refunded']==True)).dropna(how='all').shape[0])\n",
    "print('Unique subscription payments: ', pure_data.where(pure_data['trial']==False).dropna(how='all').shape[0])\n",
    "print('Refund cases: ', pure_data.where((pure_data['trial']==False) & (pure_data['refunded']==True)).dropna(how='all').shape[0])\n",
    "print('Unique users: ', len(pd.unique(pure_data['user_id'])))\n"
   ]
  },
  {
   "cell_type": "code",
   "execution_count": 108,
   "metadata": {},
   "outputs": [
    {
     "name": "stdout",
     "output_type": "stream",
     "text": [
      "Unique subscription payments:  40256\n"
     ]
    },
    {
     "name": "stdout",
     "output_type": "stream",
     "text": [
      "Unique users without trial:  18003\n",
      "Subscription duration per users\n"
     ]
    },
    {
     "data": {
      "text/html": [
       "<div>\n",
       "<style scoped>\n",
       "    .dataframe tbody tr th:only-of-type {\n",
       "        vertical-align: middle;\n",
       "    }\n",
       "\n",
       "    .dataframe tbody tr th {\n",
       "        vertical-align: top;\n",
       "    }\n",
       "\n",
       "    .dataframe thead th {\n",
       "        text-align: right;\n",
       "    }\n",
       "</style>\n",
       "<table border=\"1\" class=\"dataframe\">\n",
       "  <thead>\n",
       "    <tr style=\"text-align: right;\">\n",
       "      <th></th>\n",
       "      <th>count</th>\n",
       "      <th>overall</th>\n",
       "    </tr>\n",
       "    <tr>\n",
       "      <th>Subscription periods per user</th>\n",
       "      <th></th>\n",
       "      <th></th>\n",
       "    </tr>\n",
       "  </thead>\n",
       "  <tbody>\n",
       "    <tr>\n",
       "      <th>1</th>\n",
       "      <td>11394</td>\n",
       "      <td>11394</td>\n",
       "    </tr>\n",
       "    <tr>\n",
       "      <th>2</th>\n",
       "      <td>2239</td>\n",
       "      <td>4478</td>\n",
       "    </tr>\n",
       "    <tr>\n",
       "      <th>3</th>\n",
       "      <td>1294</td>\n",
       "      <td>3882</td>\n",
       "    </tr>\n",
       "    <tr>\n",
       "      <th>4</th>\n",
       "      <td>824</td>\n",
       "      <td>3296</td>\n",
       "    </tr>\n",
       "    <tr>\n",
       "      <th>5</th>\n",
       "      <td>520</td>\n",
       "      <td>2600</td>\n",
       "    </tr>\n",
       "    <tr>\n",
       "      <th>6</th>\n",
       "      <td>412</td>\n",
       "      <td>2472</td>\n",
       "    </tr>\n",
       "    <tr>\n",
       "      <th>7</th>\n",
       "      <td>315</td>\n",
       "      <td>2205</td>\n",
       "    </tr>\n",
       "    <tr>\n",
       "      <th>8</th>\n",
       "      <td>265</td>\n",
       "      <td>2120</td>\n",
       "    </tr>\n",
       "    <tr>\n",
       "      <th>11</th>\n",
       "      <td>215</td>\n",
       "      <td>2365</td>\n",
       "    </tr>\n",
       "    <tr>\n",
       "      <th>10</th>\n",
       "      <td>202</td>\n",
       "      <td>2020</td>\n",
       "    </tr>\n",
       "    <tr>\n",
       "      <th>9</th>\n",
       "      <td>175</td>\n",
       "      <td>1575</td>\n",
       "    </tr>\n",
       "    <tr>\n",
       "      <th>12</th>\n",
       "      <td>79</td>\n",
       "      <td>948</td>\n",
       "    </tr>\n",
       "    <tr>\n",
       "      <th>13</th>\n",
       "      <td>65</td>\n",
       "      <td>845</td>\n",
       "    </tr>\n",
       "    <tr>\n",
       "      <th>14</th>\n",
       "      <td>4</td>\n",
       "      <td>56</td>\n",
       "    </tr>\n",
       "  </tbody>\n",
       "</table>\n",
       "</div>"
      ],
      "text/plain": [
       "                               count  overall\n",
       "Subscription periods per user                \n",
       "1                              11394    11394\n",
       "2                               2239     4478\n",
       "3                               1294     3882\n",
       "4                                824     3296\n",
       "5                                520     2600\n",
       "6                                412     2472\n",
       "7                                315     2205\n",
       "8                                265     2120\n",
       "11                               215     2365\n",
       "10                               202     2020\n",
       "9                                175     1575\n",
       "12                                79      948\n",
       "13                                65      845\n",
       "14                                 4       56"
      ]
     },
     "execution_count": 108,
     "metadata": {},
     "output_type": "execute_result"
    }
   ],
   "source": [
    "no_trial = pd.DataFrame(pure_data['user_id'].where(pure_data['trial']==False).dropna(how='all').value_counts())\n",
    "counter = pd.DataFrame(no_trial['count'].value_counts())\n",
    "counter['overall'] = counter['count']*counter.index\n",
    "counter.index.rename('Subscription periods per user', inplace=True)\n",
    "print('Unique subscription payments: ', sum(counter['overall']))\n",
    "print('Unique users without trial: ', pure_data[pure_data['trial']==False]['user_id'].nunique())\n",
    "print('Subscription duration per users')\n",
    "counter"
   ]
  },
  {
   "cell_type": "markdown",
   "metadata": {},
   "source": [
    "#### *New unique users prediction*"
   ]
  },
  {
   "cell_type": "code",
   "execution_count": 109,
   "metadata": {},
   "outputs": [],
   "source": [
    "#Dataset processing\n",
    "\n",
    "new_users_prediction = pd.DataFrame(pure_data.groupby('user_id')['purchase_date'].min().reset_index(name='first_date'))\n",
    "#new_users_prediction = pd.DataFrame(pure_data[pure_data['trial']==False].groupby('user_id')['purchase_date'].min().reset_index(name='first_date'))\n",
    "new_users_prediction = pd.DataFrame(new_users_prediction.groupby('first_date').size().reset_index(name='new_users'))\n",
    "#new_users_prediction['new_users'].mean()"
   ]
  },
  {
   "cell_type": "code",
   "execution_count": 110,
   "metadata": {},
   "outputs": [
    {
     "data": {
      "image/png": "[encoded data removed]",
      "text/plain": [
       "<Figure size 640x480 with 1 Axes>"
      ]
     },
     "metadata": {},
     "output_type": "display_data"
    },
    {
     "name": "stdout",
     "output_type": "stream",
     "text": [
      "Predicted unique users for half-year period:  35828.672102091456\n"
     ]
    }
   ],
   "source": [
    "#Linear regression\n",
    "\n",
    "new_users_prediction.first_date = pd.to_datetime(new_users_prediction.first_date)\n",
    "reg = LinearRegression()\n",
    "reg.fit(new_users_prediction.first_date.values.reshape(-1, 1), new_users_prediction['new_users'].values.reshape(-1, 1))\n",
    "\n",
    "new_dates = pd.DataFrame({'new_dates': pd.to_datetime(pd.date_range(start='2020-10-01', end='2020-12-31', freq='D', inclusive='both'))})\n",
    "new_users = reg.predict(new_dates['new_dates'].values.astype(float).reshape(-1, 1))\n",
    "\n",
    "\n",
    "plt.plot(new_dates, new_users)\n",
    "plt.scatter(new_users_prediction['first_date'], new_users_prediction['new_users'])\n",
    "plt.show()\n",
    "\n",
    "print('Predicted unique users for half-year period: ', (sum(new_users)+sum(new_users_prediction['new_users']))[0])"
   ]
  },
  {
   "cell_type": "markdown",
   "metadata": {},
   "source": [
    "#### *New subscription payments prediction*"
   ]
  },
  {
   "cell_type": "code",
   "execution_count": 111,
   "metadata": {},
   "outputs": [],
   "source": [
    "#Dataset processing\n",
    "\n",
    "subs_prediction = pd.DataFrame(pure_data[pure_data['trial']==False].groupby('purchase_date').size().reset_index(name='payments'))\n",
    "#subs_prediction['payments'].max()"
   ]
  },
  {
   "cell_type": "code",
   "execution_count": 112,
   "metadata": {},
   "outputs": [
    {
     "data": {
      "image/png": "[encoded data removed]",
      "text/plain": [
       "<Figure size 640x480 with 1 Axes>"
      ]
     },
     "metadata": {},
     "output_type": "display_data"
    },
    {
     "name": "stdout",
     "output_type": "stream",
     "text": [
      "Predicted number of subscription payments:  118577.10599078459\n"
     ]
    }
   ],
   "source": [
    "#Linear regression\n",
    "\n",
    "subs_prediction.purchase_date = pd.to_datetime(subs_prediction.purchase_date)\n",
    "reg = LinearRegression()\n",
    "reg.fit(subs_prediction.purchase_date.values.reshape(-1, 1), subs_prediction['payments'].values.reshape(-1, 1))\n",
    "\n",
    "new_dates = pd.DataFrame({'new_dates': pd.to_datetime(pd.date_range(start='2020-10-01', end='2020-12-31', freq='D', inclusive='both'))})\n",
    "new_subs = reg.predict(new_dates['new_dates'].values.astype(float).reshape(-1, 1))\n",
    "\n",
    "\n",
    "plt.plot(new_dates, new_subs)\n",
    "plt.scatter(subs_prediction['purchase_date'], subs_prediction['payments'])\n",
    "plt.show()\n",
    "\n",
    "print('Predicted number of subscription payments: ', (sum(new_subs)+sum(subs_prediction['payments']))[0])"
   ]
  },
  {
   "cell_type": "markdown",
   "metadata": {},
   "source": [
    "#### *New refund cases prediction*"
   ]
  },
  {
   "cell_type": "code",
   "execution_count": 113,
   "metadata": {},
   "outputs": [
    {
     "data": {
      "text/html": [
       "<div>\n",
       "<style scoped>\n",
       "    .dataframe tbody tr th:only-of-type {\n",
       "        vertical-align: middle;\n",
       "    }\n",
       "\n",
       "    .dataframe tbody tr th {\n",
       "        vertical-align: top;\n",
       "    }\n",
       "\n",
       "    .dataframe thead th {\n",
       "        text-align: right;\n",
       "    }\n",
       "</style>\n",
       "<table border=\"1\" class=\"dataframe\">\n",
       "  <thead>\n",
       "    <tr style=\"text-align: right;\">\n",
       "      <th></th>\n",
       "      <th>purchase_date</th>\n",
       "      <th>refunds_number</th>\n",
       "    </tr>\n",
       "  </thead>\n",
       "  <tbody>\n",
       "    <tr>\n",
       "      <th>0</th>\n",
       "      <td>2020-07-01</td>\n",
       "      <td>4</td>\n",
       "    </tr>\n",
       "    <tr>\n",
       "      <th>1</th>\n",
       "      <td>2020-07-02</td>\n",
       "      <td>1</td>\n",
       "    </tr>\n",
       "    <tr>\n",
       "      <th>2</th>\n",
       "      <td>2020-07-03</td>\n",
       "      <td>1</td>\n",
       "    </tr>\n",
       "    <tr>\n",
       "      <th>3</th>\n",
       "      <td>2020-07-04</td>\n",
       "      <td>2</td>\n",
       "    </tr>\n",
       "    <tr>\n",
       "      <th>4</th>\n",
       "      <td>2020-07-05</td>\n",
       "      <td>1</td>\n",
       "    </tr>\n",
       "    <tr>\n",
       "      <th>...</th>\n",
       "      <td>...</td>\n",
       "      <td>...</td>\n",
       "    </tr>\n",
       "    <tr>\n",
       "      <th>87</th>\n",
       "      <td>2020-09-26</td>\n",
       "      <td>19</td>\n",
       "    </tr>\n",
       "    <tr>\n",
       "      <th>88</th>\n",
       "      <td>2020-09-27</td>\n",
       "      <td>20</td>\n",
       "    </tr>\n",
       "    <tr>\n",
       "      <th>89</th>\n",
       "      <td>2020-09-28</td>\n",
       "      <td>16</td>\n",
       "    </tr>\n",
       "    <tr>\n",
       "      <th>90</th>\n",
       "      <td>2020-09-29</td>\n",
       "      <td>26</td>\n",
       "    </tr>\n",
       "    <tr>\n",
       "      <th>91</th>\n",
       "      <td>2020-09-30</td>\n",
       "      <td>6</td>\n",
       "    </tr>\n",
       "  </tbody>\n",
       "</table>\n",
       "<p>92 rows × 2 columns</p>\n",
       "</div>"
      ],
      "text/plain": [
       "   purchase_date  refunds_number\n",
       "0     2020-07-01               4\n",
       "1     2020-07-02               1\n",
       "2     2020-07-03               1\n",
       "3     2020-07-04               2\n",
       "4     2020-07-05               1\n",
       "..           ...             ...\n",
       "87    2020-09-26              19\n",
       "88    2020-09-27              20\n",
       "89    2020-09-28              16\n",
       "90    2020-09-29              26\n",
       "91    2020-09-30               6\n",
       "\n",
       "[92 rows x 2 columns]"
      ]
     },
     "execution_count": 113,
     "metadata": {},
     "output_type": "execute_result"
    }
   ],
   "source": [
    "#Data processing\n",
    "\n",
    "ref_prediction=pure_data[(pure_data['trial']==False)].groupby('purchase_date')['refunded'].apply(lambda x: (x==True).sum()).reset_index(name='refunds_number')\n",
    "\n",
    "#ref_prediction = pd.DataFrame(pure_data[(pure_data['trial']==False)].groupby('purchase_date')['refunded'].value_counts().reset_index(name='refunds_number'))\n",
    "#ref_prediction = pd.DataFrame(ref_prediction[['purchase_date', 'refunds_number']][ref_prediction['refunded']==True])\n",
    "ref_prediction"
   ]
  },
  {
   "cell_type": "code",
   "execution_count": 114,
   "metadata": {},
   "outputs": [
    {
     "data": {
      "image/png": "[encoded data removed]",
      "text/plain": [
       "<Figure size 640x480 with 1 Axes>"
      ]
     },
     "metadata": {},
     "output_type": "display_data"
    },
    {
     "name": "stdout",
     "output_type": "stream",
     "text": [
      "Prediction of refund cases:  5230.221907125131\n"
     ]
    }
   ],
   "source": [
    "#Linear regression\n",
    "\n",
    "ref_prediction.purchase_date = pd.to_datetime(ref_prediction.purchase_date)\n",
    "reg = LinearRegression()\n",
    "reg.fit(ref_prediction.purchase_date.values.reshape(-1, 1), ref_prediction['refunds_number'].values.reshape(-1, 1))\n",
    "\n",
    "new_dates = pd.DataFrame({'new_dates': pd.to_datetime(pd.date_range(start='2020-10-01', end='2020-12-31', freq='D', inclusive='both'))})\n",
    "new_refs = reg.predict(new_dates['new_dates'].values.astype(float).reshape(-1, 1))\n",
    "\n",
    "\n",
    "plt.plot(new_dates, new_refs)\n",
    "plt.scatter(ref_prediction['purchase_date'], ref_prediction['refunds_number'])\n",
    "plt.show()\n",
    "\n",
    "print('Prediction of refund cases: ', (sum(new_refs)+sum(ref_prediction['refunds_number']))[0])"
   ]
  }
 ],
 "metadata": {
  "kernelspec": {
   "display_name": "Python 3",
   "language": "python",
   "name": "python3"
  },
  "language_info": {
   "codemirror_mode": {
    "name": "ipython",
    "version": 3
   },
   "file_extension": ".py",
   "mimetype": "text/x-python",
   "name": "python",
   "nbconvert_exporter": "python",
   "pygments_lexer": "ipython3",
   "version": "3.12.2"
  }
 },
 "nbformat": 4,
 "nbformat_minor": 2
}
